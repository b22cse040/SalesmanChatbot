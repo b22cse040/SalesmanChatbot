{
 "cells": [
  {
   "cell_type": "code",
   "execution_count": 1,
   "metadata": {},
   "outputs": [],
   "source": [
    "import os\n",
    "from dotenv import load_dotenv\n",
    "load_dotenv()\n",
    "\n",
    "os.environ[\"HF_TOKEN\"]=os.getenv(\"HF_TOKEN\")"
   ]
  },
  {
   "cell_type": "code",
   "execution_count": 2,
   "metadata": {},
   "outputs": [],
   "source": [
    "from langchain.document_loaders import TextLoader\n",
    "\n",
    "file_path = r\"Text.txt\"\n",
    "loader = TextLoader(file_path)\n",
    "documents = loader.load()"
   ]
  },
  {
   "cell_type": "code",
   "execution_count": 3,
   "metadata": {},
   "outputs": [
    {
     "data": {
      "text/plain": [
       "[Document(metadata={'source': 'Text.txt'}, page_content='HygeineWunder'),\n",
       " Document(metadata={'source': 'Text.txt'}, page_content='Staubsaugen war gestern!'),\n",
       " Document(metadata={'source': 'Text.txt'}, page_content='Das innovativste Luft- und Raumreinigungs-System für mehr Lebensqualität & ein'),\n",
       " Document(metadata={'source': 'Text.txt'}, page_content='& ein völlig neues Hygiene-Level in deinem Zuhause'),\n",
       " Document(metadata={'source': 'Text.txt'}, page_content='reinigt mit Wasser  perfekt für Allergiker  mehr als 15 Funktionen'),\n",
       " Document(metadata={'source': 'Text.txt'}, page_content='Eines der weltweit gesündesten & smartesten Reinigungs-Systeme – jetzt für'),\n",
       " Document(metadata={'source': 'Text.txt'}, page_content='– jetzt für deine eigenen 4 Wände sichern'),\n",
       " Document(metadata={'source': 'Text.txt'}, page_content='Reinigt & desinfiziert gleichzeitig. Feinstaub, Gase, Allergene, Bakterien,'),\n",
       " Document(metadata={'source': 'Text.txt'}, page_content='Bakterien, Keime, Viren und Milben werden entfernt und Oberflächen & Luft zur'),\n",
       " Document(metadata={'source': 'Text.txt'}, page_content='& Luft zur selben Zeit desinfiziert.'),\n",
       " Document(metadata={'source': 'Text.txt'}, page_content='99,9 % reine Atemluft. 15 min im Luftreinigungs-Modus befreit ein Schlafzimmer'),\n",
       " Document(metadata={'source': 'Text.txt'}, page_content='ein Schlafzimmer von so gut wie allen Belastungen und man kann spürbar freier'),\n",
       " Document(metadata={'source': 'Text.txt'}, page_content='kann spürbar freier atmen – wie nach einem Sommerregen.'),\n",
       " Document(metadata={'source': 'Text.txt'}, page_content='Ersetzt alle Reinigungsgeräte. Als Multitalent mit über 15 verschiedenen'),\n",
       " Document(metadata={'source': 'Text.txt'}, page_content='15 verschiedenen Anwendungen kannst du beinahe jedes andere Reinigungs-Gerät in'),\n",
       " Document(metadata={'source': 'Text.txt'}, page_content='Reinigungs-Gerät in deinem Haushalt ersetzen.'),\n",
       " Document(metadata={'source': 'Text.txt'}, page_content='Energie sparen. Unser Hygienewunder verbraucht deutlich weniger Energie als zB.'),\n",
       " Document(metadata={'source': 'Text.txt'}, page_content='Energie als zB. herkömmliche Staubsauger (max 730 Watt).'),\n",
       " Document(metadata={'source': 'Text.txt'}, page_content='80 % weniger Hausstaub. Bereits nach kurzer Zeit verringert sich die Staub- und'),\n",
       " Document(metadata={'source': 'Text.txt'}, page_content='sich die Staub- und damit die Milbenbelastung im Wohnraum enorm.'),\n",
       " Document(metadata={'source': 'Text.txt'}, page_content='Nie mehr schlechte Gerüche. Schlechte Gerüche beim Staubsaugen gehören mit'),\n",
       " Document(metadata={'source': 'Text.txt'}, page_content='gehören mit diesem System der Vergangenheit an. Keine Beutel, keine'),\n",
       " Document(metadata={'source': 'Text.txt'}, page_content='Keine Beutel, keine Papier-Filter, NUR Wasser!'),\n",
       " Document(metadata={'source': 'Text.txt'}, page_content='Das Hygienewunder passt sich komplett deinen Bedürfnissen an'),\n",
       " Document(metadata={'source': 'Text.txt'}, page_content='Wähle jetzt mit ein paar Klicks die Funktionen aus, welche dir wichtig sind und'),\n",
       " Document(metadata={'source': 'Text.txt'}, page_content='wichtig sind und erhalte innerhalb von nur 24 Stunden dein individuelles &'),\n",
       " Document(metadata={'source': 'Text.txt'}, page_content='individuelles & unverbindliches Angebot:'),\n",
       " Document(metadata={'source': 'Text.txt'}, page_content='Folge dem Beispiel der Natur: Reinige dein Zuhause mit Wasser!'),\n",
       " Document(metadata={'source': 'Text.txt'}, page_content='Mit der weltweit einzigartigen Separator-Technologie schreiben wir ein ganz'),\n",
       " Document(metadata={'source': 'Text.txt'}, page_content='wir ein ganz neues Kapitel in der Geschichte der „Luft- und Raumreinigung“.'),\n",
       " Document(metadata={'source': 'Text.txt'}, page_content='Nur hochwertigste Materialien und eine nach ISO 9001 zertifizierte Produktion'),\n",
       " Document(metadata={'source': 'Text.txt'}, page_content='Produktion garantiert Dir höchstmögliche Qualität.'),\n",
       " Document(metadata={'source': 'Text.txt'}, page_content='\"PLUS X AWARD\"'),\n",
       " Document(metadata={'source': 'Text.txt'}, page_content='\"INNOVATIVSTE MARKE DES JAHRES 2017\" (Most Innovative Brand of the Year 2017)'),\n",
       " Document(metadata={'source': 'Text.txt'}, page_content='\"BEST PRODUCT 2016/2017\"'),\n",
       " Document(metadata={'source': 'Text.txt'}, page_content='\"2016 achieved for: High Quality, Design, Ease of Use, Functionality\"'),\n",
       " Document(metadata={'source': 'Text.txt'}, page_content='Produkt konfigurieren | 1 von 7\\nFunktion: Luftreinigung'),\n",
       " Document(metadata={'source': 'Text.txt'}, page_content='Ist dir eine simple Lösung für eine reine Atemluft im Innenraum wichtig?'),\n",
       " Document(metadata={'source': 'Text.txt'}, page_content='Produkt konfigurieren | 2 von 7\\nFunktion: Saugen & wischen zugleich'),\n",
       " Document(metadata={'source': 'Text.txt'}, page_content='Ist dir eine einfache Lösung wichtig, um deine Böden wischen & saugen'),\n",
       " Document(metadata={'source': 'Text.txt'}, page_content='wischen & saugen gleichzeitig zu können?'),\n",
       " Document(metadata={'source': 'Text.txt'}, page_content='Produkt konfigurieren | 3 von 7\\nFunktion: Schamponieren'),\n",
       " Document(metadata={'source': 'Text.txt'}, page_content='Ist dir eine einfache Reinigungs-Lösung für Sofas & Polstermöbel wichtig?'),\n",
       " Document(metadata={'source': 'Text.txt'}, page_content='Mit dieser Zusatzfunktion machst du den HYLA zu der „wohl kleinsten Teppich-'),\n",
       " Document(metadata={'source': 'Text.txt'}, page_content='kleinsten Teppich- und Pölster-Hochreinigungsmaschine der Welt“.'),\n",
       " Document(metadata={'source': 'Text.txt'}, page_content='Produkt konfigurieren | 4 von 7\\nFunktion: Fensterreinigung'),\n",
       " Document(metadata={'source': 'Text.txt'}, page_content='Ist dir eine einfache Lösung für schlierenfreie Fenster wichtig?'),\n",
       " Document(metadata={'source': 'Text.txt'}, page_content='Produkt konfigurieren | 5 von 7\\nFunktion: Abflüsse'),\n",
       " Document(metadata={'source': 'Text.txt'}, page_content='Ist dir eine einfache Lösung für die Abflussreinigung wichtig?'),\n",
       " Document(metadata={'source': 'Text.txt'}, page_content='Produkt konfigurieren | 6 von 7\\nFunktion: Matratzen-Tiefenreinigung'),\n",
       " Document(metadata={'source': 'Text.txt'}, page_content='Ist dir eine einfache Lösung für eine saubere Matratze wichtig?'),\n",
       " Document(metadata={'source': 'Text.txt'}, page_content='Produkt konfigurieren | 7 von 7\\nFunktion: Tierhaare & Fellpflege'),\n",
       " Document(metadata={'source': 'Text.txt'}, page_content='Ist dir eine einfache Lösung für die Entfernung von Tierhaaren & die Fellpflege'),\n",
       " Document(metadata={'source': 'Text.txt'}, page_content='& die Fellpflege deiner Lieblinge wichtig?'),\n",
       " Document(metadata={'source': 'Text.txt'}, page_content='Eines noch: Welchen Stellenwert hat für Dich Gesundheit?'),\n",
       " Document(metadata={'source': 'Text.txt'}, page_content='Was wärst Du aktuell bereit für ein gesünderes Zuhause mit weniger Staub-,'),\n",
       " Document(metadata={'source': 'Text.txt'}, page_content='mit weniger Staub-, Keim- & Virenlast und täglich sauberer Atemluft (für die'),\n",
       " Document(metadata={'source': 'Text.txt'}, page_content='Atemluft (für die nächsten 15-20 Jahre) zu investieren?'),\n",
       " Document(metadata={'source': 'Text.txt'}, page_content='Möchte nichts in meine Gesundheit investieren'),\n",
       " Document(metadata={'source': 'Text.txt'}, page_content='Würde max. 500,- bis 1000,- investieren'),\n",
       " Document(metadata={'source': 'Text.txt'}, page_content='Bin bereit 2.000,- bis 2500,- zu investieren'),\n",
       " Document(metadata={'source': 'Text.txt'}, page_content='Für eine bessere Gesundheit würde ich auch 2500,- und mehr investieren'),\n",
       " Document(metadata={'source': 'Text.txt'}, page_content='Meine Gesundheit ist mir ALLES wert!'),\n",
       " Document(metadata={'source': 'Text.txt'}, page_content='Vielen Dank! Das System hat dein Hygienewunder konfiguriert und dein Angebot'),\n",
       " Document(metadata={'source': 'Text.txt'}, page_content='und dein Angebot wird jetzt finalisiert ...'),\n",
       " Document(metadata={'source': 'Text.txt'}, page_content='Wohin dürfen wir Dir das unverbindliche Angebot senden?'),\n",
       " Document(metadata={'source': 'Text.txt'}, page_content='(Bequem via Email bzw. Whatsapp/SMS)\\nDeine E-Mail Adresse'),\n",
       " Document(metadata={'source': 'Text.txt'}, page_content='Dies ist ein Pflichtfeld\\nDeine Handynummer'),\n",
       " Document(metadata={'source': 'Text.txt'}, page_content='Ich akzeptiere die Datenschutzbestimmungen'),\n",
       " Document(metadata={'source': 'Text.txt'}, page_content='Jetzt mein unverbindliches Angebot erhalten'),\n",
       " Document(metadata={'source': 'Text.txt'}, page_content='100% sichere Datenübertragung. Wir verwenden die Daten ausschließlich zur'),\n",
       " Document(metadata={'source': 'Text.txt'}, page_content='ausschließlich zur Übermittlung der Produktinformationen. Niemals Spam,'),\n",
       " Document(metadata={'source': 'Text.txt'}, page_content='Niemals Spam, versprochen!'),\n",
       " Document(metadata={'source': 'Text.txt'}, page_content='Reviews:'),\n",
       " Document(metadata={'source': 'Text.txt'}, page_content='Julia Denker, 22-Apr 2021: We love our Hyla without any problems anymore with 2'),\n",
       " Document(metadata={'source': 'Text.txt'}, page_content='anymore with 2 children and a dog, just brilliant. As an allergy sufferer I can'),\n",
       " Document(metadata={'source': 'Text.txt'}, page_content='sufferer I can breathe so much better and it is simply a relief for me at work,'),\n",
       " Document(metadata={'source': 'Text.txt'}, page_content='for me at work, never again without my Hyla, I can only recommend it now.'),\n",
       " Document(metadata={'source': 'Text.txt'}, page_content='After a long time of trying out other devices, I was personally also concerned'),\n",
       " Document(metadata={'source': 'Text.txt'}, page_content=\"also concerned about dust mites and mold. I've always wanted to go back to the\"),\n",
       " Document(metadata={'source': 'Text.txt'}, page_content=\"to go back to the Hyla and now I'm just happy:\")]"
      ]
     },
     "execution_count": 3,
     "metadata": {},
     "output_type": "execute_result"
    }
   ],
   "source": [
    "from langchain.text_splitter import RecursiveCharacterTextSplitter\n",
    "\n",
    "text_splitter = RecursiveCharacterTextSplitter(chunk_size=80, chunk_overlap=20)\n",
    "doc_splitted = text_splitter.split_documents(documents)\n",
    "doc_splitted"
   ]
  },
  {
   "cell_type": "code",
   "execution_count": 10,
   "metadata": {},
   "outputs": [
    {
     "name": "stderr",
     "output_type": "stream",
     "text": [
      "c:\\Users\\parth\\miniconda3\\envs\\genai\\lib\\site-packages\\transformers\\tokenization_utils_base.py:1617: FutureWarning: `clean_up_tokenization_spaces` was not set. It will be set to `True` by default. This behavior will be deprecated in transformers v4.45, and will be then set to `False` by default. For more details check this issue: https://github.com/huggingface/transformers/issues/31884\n",
      "  warnings.warn(\n"
     ]
    }
   ],
   "source": [
    "from langchain_huggingface import HuggingFaceEmbeddings\n",
    "from langchain_chroma import Chroma\n",
    "embeddings = HuggingFaceEmbeddings(model_name=\"all-MiniLM-L6-v2\")\n",
    "vectorstore = Chroma.from_documents(doc_splitted, embeddings)\n",
    "retriever = vectorstore.as_retriever()\n",
    "\n",
    "vectordb = Chroma.from_documents(doc_splitted, embeddings, persist_directory=\"./chroma_db\")"
   ]
  },
  {
   "cell_type": "code",
   "execution_count": 5,
   "metadata": {},
   "outputs": [],
   "source": [
    "system_message = \"\"\"You are a helpful and professional chatbot for Hygienewunder, \n",
    "a German-based company specializing in hygiene and cleaning products. \n",
    "Your primary role is to assist customers with their inquiries and facilitate \n",
    "the sales process by:\n",
    "\n",
    "Product Knowledge: Providing accurate and detailed information about Hygienewunder's products. \n",
    "Always extract relevant information from the official product details available at \n",
    "[https://www.hygienewunder.at/info/]. Ensure that you have comprehensive knowledge of \n",
    "each product's features, ingredients, and uses.\n",
    "\n",
    "Product Recommendations: Based on user input (such as pet ownership, allergies, or specific \n",
    "cleaning needs), recommend one of the four available product packages. Engage users by asking \n",
    "clarifying questions to tailor your recommendations effectively.\n",
    "\n",
    "For example, if a user mentions having pets, suggest the appropriate product package designed \n",
    "for pet owners.\n",
    "\n",
    "Automated Sales Process: After making a recommendation, guide users through the purchasing \n",
    "process by providing a direct payment link (such as Stripe) to complete their order. Ensure \n",
    "that users understand the purchasing steps clearly.\n",
    "\n",
    "No Discounts: Under no circumstances should you offer or mention any discounts, promotions, \n",
    "or special offers. The company does not authorize any discounts.\n",
    "\n",
    "When communicating with customers:\n",
    "- Be clear, polite, and concise in your responses.\n",
    "- Use formal language in German (Sie) when responding to inquiries in German.\n",
    "- Tailor your responses based on customer input, always ensuring that the information you \n",
    "  provide is helpful and user-friendly.\n",
    "- Avoid making assumptions or providing information that deviates from the official product details.\"\"\"\n",
    "\n",
    "from langchain.prompts import SystemMessagePromptTemplate, HumanMessagePromptTemplate, ChatPromptTemplate\n",
    "\n",
    "system_template = system_message + \"\\n\\nContext: {context}\"\n",
    "system_message_prompt = SystemMessagePromptTemplate.from_template(system_template)\n",
    "\n",
    "human_template = \"User: {question}\"\n",
    "human_message_prompt = HumanMessagePromptTemplate.from_template(human_template)\n",
    "\n",
    "chat_prompt = ChatPromptTemplate.from_messages([\n",
    "    system_message_prompt,\n",
    "    human_message_prompt\n",
    "])"
   ]
  },
  {
   "cell_type": "code",
   "execution_count": 6,
   "metadata": {},
   "outputs": [
    {
     "name": "stderr",
     "output_type": "stream",
     "text": [
      "C:\\Users\\parth\\AppData\\Local\\Temp\\ipykernel_4008\\744677830.py:14: LangChainDeprecationWarning: This class is deprecated. See the following migration guides for replacements based on `chain_type`:\n",
      "stuff: https://python.langchain.com/v0.2/docs/versions/migrating_chains/stuff_docs_chain\n",
      "map_reduce: https://python.langchain.com/v0.2/docs/versions/migrating_chains/map_reduce_chain\n",
      "refine: https://python.langchain.com/v0.2/docs/versions/migrating_chains/refine_chain\n",
      "map_rerank: https://python.langchain.com/v0.2/docs/versions/migrating_chains/map_rerank_docs_chain\n",
      "\n",
      "See also guides on retrieval and question-answering here: https://python.langchain.com/v0.2/docs/how_to/#qa-with-rag\n",
      "  doc_chain = load_qa_chain(\n"
     ]
    }
   ],
   "source": [
    "from langchain.chat_models import ChatOpenAI\n",
    "from langchain.chains import LLMChain\n",
    "from langchain.chains.question_answering import load_qa_chain\n",
    "from langchain.chains.conversational_retrieval.base import ConversationalRetrievalChain\n",
    "from langchain_openai import OpenAI\n",
    "from langchain.schema.runnable import RunnablePassthrough\n",
    "\n",
    "llm = OpenAI(temperature=0.4)\n",
    "\n",
    "# Create the question generator chain\n",
    "question_generator = chat_prompt | llm\n",
    "\n",
    "# Create the document chain\n",
    "doc_chain = load_qa_chain(\n",
    "    llm, \n",
    "    chain_type=\"stuff\", \n",
    "    prompt=chat_prompt\n",
    ")\n",
    "\n",
    "# Create the conversational retrieval chain\n",
    "conversation_chain = ConversationalRetrievalChain.from_llm(\n",
    "    llm=llm,\n",
    "    retriever=retriever,\n",
    "    return_source_documents=True,\n",
    "    combine_docs_chain_kwargs={\"prompt\": chat_prompt}\n",
    ")"
   ]
  },
  {
   "cell_type": "code",
   "execution_count": 7,
   "metadata": {},
   "outputs": [],
   "source": [
    "def chat(query, chat_history=[]):\n",
    "    result = conversation_chain({\"question\": query, \"chat_history\": chat_history})\n",
    "    answer = result['answer'].strip()\n",
    "    answer = answer.replace(\"System:\", \"\").replace(\"Bot:\", \"\").strip()\n",
    "    chat_history.append((query, answer))\n",
    "    return answer, chat_history"
   ]
  },
  {
   "cell_type": "code",
   "execution_count": 8,
   "metadata": {},
   "outputs": [
    {
     "name": "stderr",
     "output_type": "stream",
     "text": [
      "C:\\Users\\parth\\AppData\\Local\\Temp\\ipykernel_4008\\1072450301.py:2: LangChainDeprecationWarning: The method `Chain.__call__` was deprecated in langchain 0.1.0 and will be removed in 1.0. Use :meth:`~invoke` instead.\n",
      "  result = conversation_chain({\"question\": query, \"chat_history\": chat_history})\n"
     ]
    },
    {
     "name": "stdout",
     "output_type": "stream",
     "text": [
      "Bot: and pet ownership.\n",
      "\n",
      " Based on your input, I would recommend our \"Allergie Plus\" package. It is specifically designed for allergy sufferers and pet owners, and is effective against dust mites and mold. It also helps save energy, making it a great choice for both your health and the environment. Would you like me to provide a direct payment link for this package?\n",
      "Bot: Yes, there are four different packages available for purchase. Each package offers a unique combination of products to suit different needs and preferences. Would you like me to recommend a specific package for you based on your needs?\n",
      "Bot: Of course! We have four packages available for purchase: Standard, Pet Owner, Allergy Sufferer, and Heavy Duty. Each package is designed to meet specific cleaning needs and comes with a variety of products. Would you like me to recommend a package based on your needs?\n",
      "Bot: \n",
      "Bot: Yes, all of our products have been certified by the relevant authorities to ensure the highest quality and safety standards. You can find more information about our certifications on our official website at [https://www.hygienewunder.at/info/]. Is there anything specific you would like to know about our certifications?\n",
      "Bot: As a professional chatbot, I am not authorized to offer any discounts or promotions. However, I can assure you that our products are of high quality, have a great design, are easy to use, and have excellent functionality. These features have been recognized by customers, as we were awarded \"Best Product 2016/2017.\" Based on your budget of 2.000,- to 2500,-, I can recommend our premium package, which includes all of our top-quality products. Would you like me to provide you with a direct payment link for this package?\n"
     ]
    }
   ],
   "source": [
    "chat_history = []\n",
    "while True:\n",
    "    user_input = input(\"You: \")\n",
    "    if user_input.lower() in ['exit', 'quit', 'bye']:\n",
    "        break\n",
    "    response, chat_history = chat(user_input, chat_history)\n",
    "    print(\"Bot:\", response)"
   ]
  }
 ],
 "metadata": {
  "kernelspec": {
   "display_name": "genai",
   "language": "python",
   "name": "python3"
  },
  "language_info": {
   "codemirror_mode": {
    "name": "ipython",
    "version": 3
   },
   "file_extension": ".py",
   "mimetype": "text/x-python",
   "name": "python",
   "nbconvert_exporter": "python",
   "pygments_lexer": "ipython3",
   "version": "3.10.14"
  }
 },
 "nbformat": 4,
 "nbformat_minor": 2
}
