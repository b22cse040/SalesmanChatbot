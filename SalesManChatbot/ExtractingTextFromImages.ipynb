{
 "cells": [
  {
   "cell_type": "code",
   "execution_count": 5,
   "metadata": {},
   "outputs": [
    {
     "name": "stderr",
     "output_type": "stream",
     "text": [
      "Neither CUDA nor MPS are available - defaulting to CPU. Note: This module is much faster with a GPU.\n"
     ]
    },
    {
     "name": "stdout",
     "output_type": "stream",
     "text": [
      "Detected Text:\n",
      "Julia Denker\n",
      "JD\n",
      "Bexertung\n",
      "DE\n",
      "22- ApI 2021\n",
      "Wir lieben unseren Hyla nie wieder ohne\n",
      "Wir lieben unseren Hyla ohne gent nicnts mehr mit 2 Kinder una Hund einfach Cer\n",
      "Hammer\n",
      "Ich als Allergikerin kann s0 viel pesser atmen und es ist einfach 50 e ne\n",
      "Arbeits Erleichterung fur mich\n",
      "nie mehr onne mein Hyla\n",
      "ich kann inm jecen nur\n",
      "empfehlen? Auch der Kundensenice ist super lieb und freundlich\n",
      "Und meine\n",
      "Beraterin eintach toll\n",
      "LB\n",
      "LB\n",
      "Bawertung\n",
      "DE\n",
      "0, Jan 2022\n",
      "Fur mich mittlerreile unverzichtbar\n",
      "Nach langerom Hin - una he: und ausprobicren von ancoren Geraten; nal es mich\n",
      "Personlich; auch aulgrund meine: sta ken Hausstaubmilben- una\n",
      "Schimmel? Iza le gi€. Immer wiccer zum Hyla zuruckkenren Iassen una nun bin Ich\n",
      "elntach nur happy: Ich habo $ cherlich mlch Iangst nicht alle Knitfo horaus abcr dank\n",
      "meiner supor Boraterin (Saskia Leiscnmid?) hab Ich immer clnu Anlaulstelle und bin\n",
      "nachher Immer wieder ein Stuck scnlauer und glucklicher\n"
     ]
    }
   ],
   "source": [
    "import easyocr\n",
    "import cv2\n",
    "\n",
    "reader = easyocr.Reader(['en'], gpu=True) \n",
    "\n",
    "img_path = r\"path_to_image\"\n",
    "img = cv2.imread(img_path)\n",
    "\n",
    "if img is None:\n",
    "    print(f\"Error: Failed to load image '{img_path}'.\")\n",
    "else:\n",
    "    img_gray = cv2.cvtColor(img, cv2.COLOR_BGR2GRAY)\n",
    "    results = reader.readtext(img_gray)\n",
    "    extracted_text = [text for (_, text, _) in results]\n",
    "    print(\"Detected Text:\")\n",
    "    for text in extracted_text:\n",
    "        print(text)"
   ]
  }
 ],
 "metadata": {
  "kernelspec": {
   "display_name": "genai",
   "language": "python",
   "name": "python3"
  },
  "language_info": {
   "codemirror_mode": {
    "name": "ipython",
    "version": 3
   },
   "file_extension": ".py",
   "mimetype": "text/x-python",
   "name": "python",
   "nbconvert_exporter": "python",
   "pygments_lexer": "ipython3",
   "version": "3.10.14"
  }
 },
 "nbformat": 4,
 "nbformat_minor": 2
}
